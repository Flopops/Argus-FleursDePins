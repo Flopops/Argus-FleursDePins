{
 "cells": [
  {
   "cell_type": "code",
   "execution_count": 43,
   "id": "initial_id",
   "metadata": {
    "collapsed": true,
    "ExecuteTime": {
     "end_time": "2024-03-05T11:26:38.991809537Z",
     "start_time": "2024-03-05T11:26:38.980923874Z"
    }
   },
   "outputs": [],
   "source": [
    "import pandas as pd\n",
    "import os\n",
    "\n",
    "from merger import adding_labels_to_dataset\n",
    "\n"
   ]
  },
  {
   "cell_type": "code",
   "execution_count": 2,
   "outputs": [],
   "source": [
    "DATASET_PATH = \"/mnt/sda1/1-Pins/DATASET\""
   ],
   "metadata": {
    "collapsed": false,
    "ExecuteTime": {
     "end_time": "2024-03-05T08:50:18.830762906Z",
     "start_time": "2024-03-05T08:50:18.826704792Z"
    }
   },
   "id": "c66d0e56a7f15242"
  },
  {
   "cell_type": "code",
   "execution_count": 81,
   "outputs": [
    {
     "name": "stdout",
     "output_type": "stream",
     "text": [
      "{'vacquey_05_2023_DJI_0442.JPG', 'vacquey_05_2023_DJI_0447.JPG', 'vacquey_05_2023_DJI_0446.JPG', 'vacquey_05_2023_DJI_0386.JPG', 'vacquey_05_2023_DJI_0391.JPG', 'vacquey_05_2023_DJI_0437.JPG', 'vacquey_05_2023_DJI_0449.JPG', 'vacquey_05_2023_DJI_0381.JPG', 'vacquey_05_2023_DJI_0438.JPG', 'vacquey_05_2023_DJI_0387.JPG', 'vacquey_05_2023_DJI_0445.JPG', 'vacquey_05_2023_DJI_0440.JPG', 'vacquey_05_2023_DJI_0383.JPG', 'vacquey_05_2023_DJI_0388.JPG', 'vacquey_05_2023_DJI_0444.JPG', 'vacquey_05_2023_DJI_0441.JPG', 'vacquey_05_2023_DJI_0443.JPG', 'vacquey_05_2023_DJI_0382.JPG', 'vacquey_05_2023_DJI_0450.JPG', 'vacquey_05_2023_DJI_0389.JPG', 'vacquey_05_2023_DJI_0439.JPG', 'vacquey_05_2023_DJI_0390.JPG', 'vacquey_05_2023_DJI_0385.JPG', 'vacquey_05_2023_DJI_0384.JPG', 'vacquey_05_2023_DJI_0448.JPG'}\n",
      "Ajoute les à la main et rename les si besoin\n"
     ]
    }
   ],
   "source": [
    "def print_missing_images_in_dataset(dataset_path):\n",
    "    df = pd.read_csv(dataset_path + \"/dataset.csv\")\n",
    "    images_in_csv = df[\"Label\"].tolist()\n",
    "    images_in_dir = os.listdir(dataset_path)\n",
    "    missing_in_dir = set(images_in_csv) - set(images_in_dir)\n",
    "    if len(missing_in_dir) != 0:\n",
    "        print(missing_in_dir)\n",
    "        print(\"Ajoute les à la main et rename les si besoin\")\n",
    "    else:\n",
    "        print(\"Il manque aucune image\")\n",
    "\n",
    "\n",
    "print_missing_images_in_dataset(DATASET_PATH)"
   ],
   "metadata": {
    "collapsed": false,
    "ExecuteTime": {
     "end_time": "2024-03-05T12:37:07.999549006Z",
     "start_time": "2024-03-05T12:37:07.986615979Z"
    }
   },
   "id": "3faee56fa0747bd3"
  },
  {
   "cell_type": "code",
   "execution_count": 83,
   "outputs": [
    {
     "name": "stdout",
     "output_type": "stream",
     "text": [
      "Il n'y a aucune image en trop dans le DATASET\n"
     ]
    }
   ],
   "source": [
    "def print_stranger_images(dataset_path):\n",
    "    df = pd.read_csv(dataset_path + \"/dataset.csv\")\n",
    "    images_in_csv = df[\"Label\"].tolist()\n",
    "    images_in_dir = os.listdir(dataset_path)\n",
    "    missing_in_csv = set(images_in_dir) - set(images_in_csv)\n",
    "    missing_in_csv.remove(\"dataset.csv\")\n",
    "    if len(missing_in_csv) != 0:\n",
    "        print(\"Images étrangères : \", missing_in_csv)\n",
    "        # for i in missing_in_csv:\n",
    "        #     os.remove(dataset_path + \"/\" + i)\n",
    "    else:\n",
    "        print(\"Il n'y a aucune image en trop dans le DATASET\")\n",
    "\n",
    "\n",
    "print_stranger_images(DATASET_PATH)"
   ],
   "metadata": {
    "collapsed": false,
    "ExecuteTime": {
     "end_time": "2024-03-05T12:39:53.197630875Z",
     "start_time": "2024-03-05T12:39:53.187458649Z"
    }
   },
   "id": "d87e4d0d6be0624f"
  },
  {
   "cell_type": "markdown",
   "source": [
    "### Ajout picard au dataset"
   ],
   "metadata": {
    "collapsed": false
   },
   "id": "c84fac87e53032fe"
  },
  {
   "cell_type": "code",
   "execution_count": 80,
   "outputs": [],
   "source": [
    "import shutil\n",
    "\n",
    "def copy_images_to_dataset(\n",
    "        df, input_images_path, dataset_images_path=\"/mnt/sda1/1-Pins/DATASET\"\n",
    "):\n",
    "    for label in pd.unique(df.Label):\n",
    "        src_path = os.path.join(input_images_path, label)\n",
    "        dst_path = os.path.join(dataset_images_path, label)\n",
    "        shutil.copy(src_path, dst_path)\n"
   ],
   "metadata": {
    "collapsed": false,
    "ExecuteTime": {
     "end_time": "2024-03-05T12:36:43.912755865Z",
     "start_time": "2024-03-05T12:36:43.867650597Z"
    }
   },
   "id": "3719c592fa1c2dff"
  },
  {
   "cell_type": "markdown",
   "source": [
    "## Merge custom et non celui du Merger car split : à faire"
   ],
   "metadata": {
    "collapsed": false
   },
   "id": "c7453b40163b446d"
  },
  {
   "cell_type": "code",
   "execution_count": 71,
   "outputs": [],
   "source": [
    "def merge_csv_files(input_labels_path, prefix, output_path):\n",
    "    csv_files = [\n",
    "        os.path.join(input_labels_path, c)\n",
    "        for c in os.listdir(input_labels_path)\n",
    "        if c.endswith(\".csv\")\n",
    "    ]\n",
    "    df_concat_labels = pd.concat(\n",
    "        map(lambda x: pd.read_csv(x), csv_files)\n",
    "    )\n",
    "    df_concat_labels.Label = df_concat_labels.Label.apply(\n",
    "        lambda x: \"\".join([prefix, x.split(':')[-1], \".JPG\"])\n",
    "    )\n",
    "    df_concat_labels = df_concat_labels.sort_values(by=[\"Label\"])\n",
    "    df_concat_labels = df_concat_labels.rename(\n",
    "        {\"BX\": \"X1\", \"BY\": \"Y1\"}, axis=\"columns\"\n",
    "    )\n",
    "    df_concat_labels[\"X2\"] = (\n",
    "            df_concat_labels[\"X1\"] + df_concat_labels.Width\n",
    "    )\n",
    "    df_concat_labels[\"Y2\"] = (\n",
    "            df_concat_labels[\"Y1\"] + df_concat_labels.Height\n",
    "    )\n",
    "    df_concat_labels.to_csv(\n",
    "        path_or_buf=output_path,\n",
    "        columns=[\"Label\", \"X1\", \"Y1\", \"X2\", \"Y2\"],\n",
    "        index=False,\n",
    "    )\n"
   ],
   "metadata": {
    "collapsed": false,
    "ExecuteTime": {
     "end_time": "2024-03-05T12:23:14.431014486Z",
     "start_time": "2024-03-05T12:23:14.423876901Z"
    }
   },
   "id": "e7103c1143f42010"
  },
  {
   "cell_type": "code",
   "execution_count": 74,
   "outputs": [],
   "source": [
    "merge_csv_files(\n",
    "    \"/mnt/sda1/1-Pins/LABELLISATION/Picard\",\n",
    "    \"picard_05_2023_\",\n",
    "    \"/mnt/sda1/1-Pins/LABELLISATION/picard.csv\"\n",
    ")"
   ],
   "metadata": {
    "collapsed": false,
    "ExecuteTime": {
     "end_time": "2024-03-05T12:25:10.586915226Z",
     "start_time": "2024-03-05T12:25:10.322606301Z"
    }
   },
   "id": "2cf2534fa1c19111"
  },
  {
   "cell_type": "code",
   "execution_count": null,
   "outputs": [],
   "source": [
    "picard_df = pd.read_csv(\"/mnt/sda1/1-Pins/LABELLISATION/picard.csv\")\n",
    "# adding_labels_to_dataset(picard_df)\n",
    "# copy_images_to_dataset(picard_df, \"/mnt/sda1/1-Pins/Essais/traitees_2023/PICARD_2023\")\n"
   ],
   "metadata": {
    "collapsed": false
   },
   "id": "d188cd209a48cd8e"
  },
  {
   "cell_type": "code",
   "execution_count": 73,
   "outputs": [],
   "source": [
    "merge_csv_files(\n",
    "    \"/mnt/sda1/1-Pins/LABELLISATION/Vacquey\",\n",
    "    \"vacquey_05_2023_\",\n",
    "    \"/mnt/sda1/1-Pins/LABELLISATION/vacquey.csv\"\n",
    ")"
   ],
   "metadata": {
    "collapsed": false,
    "ExecuteTime": {
     "start_time": "2024-03-05T12:23:31.728016970Z"
    }
   },
   "id": "613c4c2b81120f89"
  },
  {
   "cell_type": "code",
   "execution_count": 82,
   "outputs": [
    {
     "name": "stdout",
     "output_type": "stream",
     "text": [
      "Il manque aucune image\n"
     ]
    }
   ],
   "source": [
    "vacquey_df = pd.read_csv(\"/mnt/sda1/1-Pins/LABELLISATION/vacquey.csv\")\n",
    "# adding_labels_to_dataset(vacquey_df)\n",
    "# copy_images_to_dataset(vacquey_df, \"/mnt/sda1/1-Pins/Essais/traitees_2023/VACQUEY_2023\")\n",
    "print_missing_images_in_dataset(DATASET_PATH)"
   ],
   "metadata": {
    "collapsed": false,
    "ExecuteTime": {
     "end_time": "2024-03-05T12:39:31.681685132Z",
     "start_time": "2024-03-05T12:39:31.339331079Z"
    }
   },
   "id": "9da1b766e025a1ac"
  },
  {
   "cell_type": "code",
   "execution_count": 93,
   "outputs": [],
   "source": [
    "merge_csv_files(\n",
    "    input_labels_path=\"/mnt/sda1/1-Pins/LABELLISATION/Castillon\",\n",
    "    prefix=\"castillonville_05_2023_\",\n",
    "    output_path=\"/mnt/sda1/1-Pins/LABELLISATION/castillon.csv\"\n",
    ")"
   ],
   "metadata": {
    "collapsed": false,
    "ExecuteTime": {
     "end_time": "2024-03-05T12:58:36.746458286Z",
     "start_time": "2024-03-05T12:58:36.618855720Z"
    }
   },
   "id": "63e695e4a00b78a3"
  },
  {
   "cell_type": "code",
   "execution_count": 95,
   "outputs": [
    {
     "name": "stdout",
     "output_type": "stream",
     "text": [
      "Il manque aucune image\n",
      "Il n'y a aucune image en trop dans le DATASET\n"
     ]
    }
   ],
   "source": [
    "castillonville_df = pd.read_csv(\"/mnt/sda1/1-Pins/LABELLISATION/castillon.csv\")\n",
    "# adding_labels_to_dataset(castillonville_df)\n",
    "# copy_images_to_dataset(\n",
    "#     df=castillonville_df,\n",
    "#     input_images_path=\"/mnt/sda1/1-Pins/Essais/traitees_2023/CASTILLONVILLE_2023\"\n",
    "# )\n",
    "print_missing_images_in_dataset(DATASET_PATH)\n",
    "print_stranger_images(DATASET_PATH)"
   ],
   "metadata": {
    "collapsed": false,
    "ExecuteTime": {
     "end_time": "2024-03-05T13:02:27.836147443Z",
     "start_time": "2024-03-05T13:02:27.308471649Z"
    }
   },
   "id": "383bc44192b24482"
  },
  {
   "cell_type": "code",
   "execution_count": null,
   "outputs": [],
   "source": [
    "merge_csv_files(\n",
    "    input_labels_path=\"/mnt/sda1/1-Pins/LABELLISATION/Matouneyres\",\n",
    "    prefix=\"matouneyres_05_2023_\",\n",
    "    output_path=\"/mnt/sda1/1-Pins/LABELLISATION/matouneyres.csv\"\n",
    ")"
   ],
   "metadata": {
    "collapsed": false
   },
   "id": "e18047d432c4aaac"
  },
  {
   "cell_type": "code",
   "execution_count": 100,
   "outputs": [
    {
     "data": {
      "text/plain": "                                     Label  Area    X1    Y1  Width  Height  \\\n0    1.0  matouneyres_05_2023_DJI_0500.JPG  1156  4293  1337     34      34   \n23  24.0  matouneyres_05_2023_DJI_0500.JPG   644  1221  3575     23      28   \n24  25.0  matouneyres_05_2023_DJI_0500.JPG   506  2447  3643     23      22   \n25  26.0  matouneyres_05_2023_DJI_0500.JPG   546  2511  3648     26      21   \n1    2.0  matouneyres_05_2023_DJI_0500.JPG  1353  4250  1451     33      41   \n..   ...                               ...   ...   ...   ...    ...     ...   \n18  19.0  matouneyres_05_2023_DJI_0593.JPG  1764  3182  3313     49      36   \n19  20.0  matouneyres_05_2023_DJI_0593.JPG   928  1897  2922     32      29   \n20  21.0  matouneyres_05_2023_DJI_0593.JPG   899  1906  2975     29      31   \n9   10.0  matouneyres_05_2023_DJI_0593.JPG  2120  3462  3221     53      40   \n17  18.0  matouneyres_05_2023_DJI_0593.JPG  1517  3284  3324     41      37   \n\n      X2    Y2  \n0   4327  1371  \n23  1244  3603  \n24  2470  3665  \n25  2537  3669  \n1   4283  1492  \n..   ...   ...  \n18  3231  3349  \n19  1929  2951  \n20  1935  3006  \n9   3515  3261  \n17  3325  3361  \n\n[2059 rows x 9 columns]",
      "text/html": "<div>\n<style scoped>\n    .dataframe tbody tr th:only-of-type {\n        vertical-align: middle;\n    }\n\n    .dataframe tbody tr th {\n        vertical-align: top;\n    }\n\n    .dataframe thead th {\n        text-align: right;\n    }\n</style>\n<table border=\"1\" class=\"dataframe\">\n  <thead>\n    <tr style=\"text-align: right;\">\n      <th></th>\n      <th></th>\n      <th>Label</th>\n      <th>Area</th>\n      <th>X1</th>\n      <th>Y1</th>\n      <th>Width</th>\n      <th>Height</th>\n      <th>X2</th>\n      <th>Y2</th>\n    </tr>\n  </thead>\n  <tbody>\n    <tr>\n      <th>0</th>\n      <td>1.0</td>\n      <td>matouneyres_05_2023_DJI_0500.JPG</td>\n      <td>1156</td>\n      <td>4293</td>\n      <td>1337</td>\n      <td>34</td>\n      <td>34</td>\n      <td>4327</td>\n      <td>1371</td>\n    </tr>\n    <tr>\n      <th>23</th>\n      <td>24.0</td>\n      <td>matouneyres_05_2023_DJI_0500.JPG</td>\n      <td>644</td>\n      <td>1221</td>\n      <td>3575</td>\n      <td>23</td>\n      <td>28</td>\n      <td>1244</td>\n      <td>3603</td>\n    </tr>\n    <tr>\n      <th>24</th>\n      <td>25.0</td>\n      <td>matouneyres_05_2023_DJI_0500.JPG</td>\n      <td>506</td>\n      <td>2447</td>\n      <td>3643</td>\n      <td>23</td>\n      <td>22</td>\n      <td>2470</td>\n      <td>3665</td>\n    </tr>\n    <tr>\n      <th>25</th>\n      <td>26.0</td>\n      <td>matouneyres_05_2023_DJI_0500.JPG</td>\n      <td>546</td>\n      <td>2511</td>\n      <td>3648</td>\n      <td>26</td>\n      <td>21</td>\n      <td>2537</td>\n      <td>3669</td>\n    </tr>\n    <tr>\n      <th>1</th>\n      <td>2.0</td>\n      <td>matouneyres_05_2023_DJI_0500.JPG</td>\n      <td>1353</td>\n      <td>4250</td>\n      <td>1451</td>\n      <td>33</td>\n      <td>41</td>\n      <td>4283</td>\n      <td>1492</td>\n    </tr>\n    <tr>\n      <th>...</th>\n      <td>...</td>\n      <td>...</td>\n      <td>...</td>\n      <td>...</td>\n      <td>...</td>\n      <td>...</td>\n      <td>...</td>\n      <td>...</td>\n      <td>...</td>\n    </tr>\n    <tr>\n      <th>18</th>\n      <td>19.0</td>\n      <td>matouneyres_05_2023_DJI_0593.JPG</td>\n      <td>1764</td>\n      <td>3182</td>\n      <td>3313</td>\n      <td>49</td>\n      <td>36</td>\n      <td>3231</td>\n      <td>3349</td>\n    </tr>\n    <tr>\n      <th>19</th>\n      <td>20.0</td>\n      <td>matouneyres_05_2023_DJI_0593.JPG</td>\n      <td>928</td>\n      <td>1897</td>\n      <td>2922</td>\n      <td>32</td>\n      <td>29</td>\n      <td>1929</td>\n      <td>2951</td>\n    </tr>\n    <tr>\n      <th>20</th>\n      <td>21.0</td>\n      <td>matouneyres_05_2023_DJI_0593.JPG</td>\n      <td>899</td>\n      <td>1906</td>\n      <td>2975</td>\n      <td>29</td>\n      <td>31</td>\n      <td>1935</td>\n      <td>3006</td>\n    </tr>\n    <tr>\n      <th>9</th>\n      <td>10.0</td>\n      <td>matouneyres_05_2023_DJI_0593.JPG</td>\n      <td>2120</td>\n      <td>3462</td>\n      <td>3221</td>\n      <td>53</td>\n      <td>40</td>\n      <td>3515</td>\n      <td>3261</td>\n    </tr>\n    <tr>\n      <th>17</th>\n      <td>18.0</td>\n      <td>matouneyres_05_2023_DJI_0593.JPG</td>\n      <td>1517</td>\n      <td>3284</td>\n      <td>3324</td>\n      <td>41</td>\n      <td>37</td>\n      <td>3325</td>\n      <td>3361</td>\n    </tr>\n  </tbody>\n</table>\n<p>2059 rows × 9 columns</p>\n</div>"
     },
     "execution_count": 100,
     "metadata": {},
     "output_type": "execute_result"
    }
   ],
   "source": [
    "input_labels_path = \"/mnt/sda1/1-Pins/LABELLISATION/Matouneyres\"\n",
    "csv_files = [\n",
    "    os.path.join(input_labels_path, c)\n",
    "    for c in os.listdir(input_labels_path)\n",
    "    if c.endswith(\".csv\")\n",
    "]\n",
    "df_concat_labels = pd.concat(\n",
    "    map(lambda x: pd.read_csv(x), csv_files)\n",
    ")\n",
    "df_concat_labels.Label = df_concat_labels.Label.apply(\n",
    "    lambda x: \"\".join([\"matouneyres_05_2023_\", x.split('.')[0], \".JPG\"])\n",
    ")\n",
    "df_concat_labels = df_concat_labels.sort_values(by=[\"Label\"])\n",
    "df_concat_labels = df_concat_labels.rename(\n",
    "    {\"BX\": \"X1\", \"BY\": \"Y1\"}, axis=\"columns\"\n",
    ")\n",
    "df_concat_labels[\"X2\"] = (\n",
    "        df_concat_labels[\"X1\"] + df_concat_labels.Width\n",
    ")\n",
    "df_concat_labels[\"Y2\"] = (\n",
    "        df_concat_labels[\"Y1\"] + df_concat_labels.Height\n",
    ")\n",
    "df_concat_labels.to_csv(\n",
    "    path_or_buf=\"/mnt/sda1/1-Pins/LABELLISATION/matouneyres.csv\",\n",
    "    columns=[\"Label\", \"X1\", \"Y1\", \"X2\", \"Y2\"],\n",
    "    index=False,\n",
    ")\n",
    "df_concat_labels\n"
   ],
   "metadata": {
    "collapsed": false,
    "ExecuteTime": {
     "end_time": "2024-03-05T13:23:10.714161407Z",
     "start_time": "2024-03-05T13:23:10.576409329Z"
    }
   },
   "id": "f996b0ba41f3a13e"
  },
  {
   "cell_type": "code",
   "execution_count": 104,
   "outputs": [
    {
     "name": "stdout",
     "output_type": "stream",
     "text": [
      "Il manque aucune image\n",
      "Il n'y a aucune image en trop dans le DATASET\n"
     ]
    }
   ],
   "source": [
    "matouneyres_df = pd.read_csv(\"/mnt/sda1/1-Pins/LABELLISATION/matouneyres.csv\")\n",
    "# adding_labels_to_dataset(matouneyres_df)\n",
    "# copy_images_to_dataset(\n",
    "#     df=matouneyres_df,\n",
    "#     input_images_path=\"/mnt/sda1/1-Pins/Essais/traitees_2023/MATOUNEYRES_2023\"\n",
    "# )\n",
    "print_missing_images_in_dataset(DATASET_PATH)\n",
    "print_stranger_images(DATASET_PATH)\n"
   ],
   "metadata": {
    "collapsed": false,
    "ExecuteTime": {
     "end_time": "2024-03-05T13:33:29.135152827Z",
     "start_time": "2024-03-05T13:33:28.048798077Z"
    }
   },
   "id": "41957a72863ab6d9"
  },
  {
   "cell_type": "code",
   "execution_count": null,
   "outputs": [],
   "source": [],
   "metadata": {
    "collapsed": false
   },
   "id": "ef0c5ce3cb2eb01c"
  }
 ],
 "metadata": {
  "kernelspec": {
   "display_name": "Python 3",
   "language": "python",
   "name": "python3"
  },
  "language_info": {
   "codemirror_mode": {
    "name": "ipython",
    "version": 2
   },
   "file_extension": ".py",
   "mimetype": "text/x-python",
   "name": "python",
   "nbconvert_exporter": "python",
   "pygments_lexer": "ipython2",
   "version": "2.7.6"
  }
 },
 "nbformat": 4,
 "nbformat_minor": 5
}
